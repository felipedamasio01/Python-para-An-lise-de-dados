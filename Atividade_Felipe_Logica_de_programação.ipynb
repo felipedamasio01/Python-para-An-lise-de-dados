{
  "nbformat": 4,
  "nbformat_minor": 0,
  "metadata": {
    "colab": {
      "provenance": [],
      "authorship_tag": "ABX9TyNx/L7UT74cEWNbt1UnXN9S",
      "include_colab_link": true
    },
    "kernelspec": {
      "name": "python3",
      "display_name": "Python 3"
    },
    "language_info": {
      "name": "python"
    }
  },
  "cells": [
    {
      "cell_type": "markdown",
      "metadata": {
        "id": "view-in-github",
        "colab_type": "text"
      },
      "source": [
        "<a href=\"https://colab.research.google.com/github/felipedamasio01/Python-para-An-lise-de-dados/blob/main/Atividade_Felipe_Logica_de_programa%C3%A7%C3%A3o.ipynb\" target=\"_parent\"><img src=\"https://colab.research.google.com/assets/colab-badge.svg\" alt=\"Open In Colab\"/></a>"
      ]
    },
    {
      "cell_type": "code",
      "execution_count": null,
      "metadata": {
        "id": "ymjXa6W0Sktx"
      },
      "outputs": [],
      "source": [
        "from IPython.display import clear_output\n",
        "\n",
        "def mostrar_menu():\n",
        "    print(\"\\nEscolha a operação:\\n\")\n",
        "    print(\"1. Adição\")\n",
        "    print(\"2. Subtração\")\n",
        "    print(\"3. Multiplicação\")\n",
        "    print(\"4. Divisão\\n\")\n",
        "    print(\"5. Sair\\n\")\n",
        "\n",
        "def calculadora(): # Função principal da calculadora\n",
        "    while True: # Mostra o menu de opções\n",
        "        mostrar_menu()\n",
        "        escolha = input(\"Digite o número correspondente à operação desejada: \") # Recebe a escolha da operação\n",
        "\n",
        "        if escolha == '5': # Verifica se o usuário deseja sair\n",
        "            print(\"Saindo da calculadora...\")\n",
        "            break\n",
        "\n",
        "        num1 = input(\"Digite o primeiro número: \") # Recebe os números de entrada do usuário\n",
        "        num2 = input(\"Digite o segundo número: \")\n",
        "\n",
        "        try: # Converte os valores recebidos para float\n",
        "            num1 = float(num1)\n",
        "            num2 = float(num2)\n",
        "        except ValueError:\n",
        "            print(\"Por favor, insira valores numéricos válidos.\")\n",
        "            continue\n",
        "\n",
        "        if escolha == '1':  # Realiza a operação com base na escolha do usuário\n",
        "            resultado = num1 + num2\n",
        "            print(f\"Resultado da adição: {resultado}\")\n",
        "        elif escolha == '2':\n",
        "            resultado = num1 - num2\n",
        "            print(f\"Resultado da subtração: {resultado}\")\n",
        "        elif escolha == '3':\n",
        "            resultado = num1 * num2\n",
        "            print(f\"Resultado da multiplicação: {resultado}\")\n",
        "        elif escolha == '4':\n",
        "            if num2 == 0:\n",
        "                print(\"Erro: divisão por zero não é permitida.\")\n",
        "            else:\n",
        "                resultado = num1 / num2\n",
        "                print(f\"Resultado da divisão: {resultado}\")\n",
        "        else:\n",
        "            print(\"Opção inválida. Por favor, escolha uma opção válida.\")\n",
        "\n",
        "        input(\"\\nPressione Enter para continuar...\")\n",
        "        clear_output()\n",
        "\n",
        "calculadora() # Iniciar a calculadora"
      ]
    }
  ]
}